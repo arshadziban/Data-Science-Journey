{
 "cells": [
  {
   "cell_type": "markdown",
   "metadata": {},
   "source": [
    "# Flipping a Coin"
   ]
  },
  {
   "cell_type": "code",
   "execution_count": 2,
   "metadata": {},
   "outputs": [
    {
     "name": "stdout",
     "output_type": "stream",
     "text": [
      "Mean: 50.0, Standard Deviation: 5.0\n"
     ]
    }
   ],
   "source": [
    "from typing import Tuple\n",
    "import math\n",
    "def normal_approximation_to_bianomial(n:int, p:float) ->Tuple:\n",
    "    mu = p*n\n",
    "    sigma = math.sqrt(p*(1-p)*n)\n",
    "    return mu, sigma\n",
    "mu, sigma = normal_approximation_to_bianomial(100, 0.5)\n",
    "print(f\"Mean: {mu}, Standard Deviation: {sigma}\")\n",
    "    "
   ]
  },
  {
   "cell_type": "code",
   "execution_count": 3,
   "metadata": {},
   "outputs": [],
   "source": [
    "def normal_cdf(x: float, mu: float = 0, sigma: float = 1) -> float:\n",
    "    \"\"\"Computes the CDF of a normal distribution.\"\"\"\n",
    "    return (1 + math.erf((x - mu) / (sigma * math.sqrt(2)))) / 2"
   ]
  },
  {
   "cell_type": "code",
   "execution_count": 4,
   "metadata": {},
   "outputs": [],
   "source": [
    "def normal_probability_above(lo: float, mu: float = 0, sigma: float = 1) -> float:\n",
    "    \"\"\"Returns the probability that a normal variable is above a given value.\"\"\"\n",
    "    return 1 - normal_cdf(lo, mu, sigma)"
   ]
  },
  {
   "cell_type": "code",
   "execution_count": 5,
   "metadata": {},
   "outputs": [
    {
     "name": "stdout",
     "output_type": "stream",
     "text": [
      "Probability of being above 1: 0.15865525393145719\n"
     ]
    }
   ],
   "source": [
    "probability_above = normal_probability_above(1.0, mu=0, sigma=1)\n",
    "print(f\"Probability of being above 1: {probability_above}\")"
   ]
  },
  {
   "cell_type": "code",
   "execution_count": 6,
   "metadata": {},
   "outputs": [
    {
     "name": "stdout",
     "output_type": "stream",
     "text": [
      "0.13590512198327787\n"
     ]
    }
   ],
   "source": [
    "import math\n",
    "from scipy.stats import norm\n",
    "\n",
    "def normal_probability_between(lo: float, hi: float, mu: float = 0, sigma: float = 1) -> float:\n",
    "    return norm.cdf(hi, mu, sigma) - norm.cdf(lo, mu, sigma)\n",
    "\n",
    "# Example usage:\n",
    "lo = 1.0\n",
    "hi = 2.0\n",
    "mu = 0.0\n",
    "sigma = 1.0\n",
    "value = normal_probability_between(lo, hi, mu, sigma)\n",
    "print(value)"
   ]
  },
  {
   "cell_type": "code",
   "execution_count": 7,
   "metadata": {},
   "outputs": [
    {
     "name": "stdout",
     "output_type": "stream",
     "text": [
      "0.8640948780167221\n"
     ]
    }
   ],
   "source": [
    "def normal_probability_outside(lo: float, hi: float, mu: float = 0, sigma: float = 1) ->float:\n",
    "    return 1 - normal_probability_between(lo, hi, mu, sigma)\n",
    "\n",
    "lo = 1.0\n",
    "hi = 2.0\n",
    "mu = 0.0\n",
    "sigma = 1.0\n",
    "value = normal_probability_outside(lo, hi, mu, sigma)\n",
    "print(value)"
   ]
  },
  {
   "cell_type": "code",
   "execution_count": 8,
   "metadata": {},
   "outputs": [
    {
     "name": "stdout",
     "output_type": "stream",
     "text": [
      "1.6448536269514722\n"
     ]
    }
   ],
   "source": [
    "from scipy.stats import norm\n",
    "\n",
    "def inverse_normal_cdf(probability: float, mu: float = 0, sigma: float = 1) -> float:\n",
    "    \"\"\"Compute the inverse of the cumulative distribution function for a normal distribution.\"\"\"\n",
    "    return norm.ppf(probability, loc=mu, scale=sigma)\n",
    "\n",
    "def normal_upper_bound(probability: float, mu: float = 0, sigma: float = 1) -> float:\n",
    "    \"\"\"Find the z for which P(Z <= z) = probability for a normal distribution with mean mu and standard deviation sigma.\"\"\"\n",
    "    return inverse_normal_cdf(probability, mu, sigma)\n",
    "\n",
    "# Example usage\n",
    "if __name__ == \"__main__\":\n",
    "    print(normal_upper_bound(0.95))  "
   ]
  },
  {
   "cell_type": "code",
   "execution_count": 9,
   "metadata": {},
   "outputs": [
    {
     "name": "stdout",
     "output_type": "stream",
     "text": [
      "-1.6448536269514722\n"
     ]
    }
   ],
   "source": [
    "def normal_lower_bound(probability: float, mu: float = 0, sigma: float = 1) -> float:\n",
    "    \"\"\"Find the z for which P(Z >= z) = probability for a normal distribution with mean mu and standard deviation sigma.\"\"\"\n",
    "    return inverse_normal_cdf(1 - probability, mu, sigma)\n",
    "\n",
    "# Example usage\n",
    "if __name__ == \"__main__\":\n",
    "    print(normal_lower_bound(0.95))\n",
    "     "
   ]
  },
  {
   "cell_type": "markdown",
   "metadata": {},
   "source": [
    "# P-Values"
   ]
  },
  {
   "cell_type": "code",
   "execution_count": 10,
   "metadata": {},
   "outputs": [
    {
     "name": "stdout",
     "output_type": "stream",
     "text": [
      "0.04922165217530017\n"
     ]
    }
   ],
   "source": [
    "from scipy.stats import norm\n",
    "\n",
    "def two_sided_p_values(x: float, mu: float = 0, sigma: float = 1) -> float:\n",
    "    if x >= mu:\n",
    "        return 2 * (1 - norm.cdf(x, mu, sigma))  # Uses normal probability above\n",
    "    else:\n",
    "        return 2 * norm.cdf(x, mu, sigma)  # Uses normal probability outside\n",
    "\n",
    "# Example usage\n",
    "result = two_sided_p_values(529.5, mu=500, sigma=15)\n",
    "print(result)"
   ]
  },
  {
   "cell_type": "code",
   "execution_count": null,
   "metadata": {},
   "outputs": [],
   "source": []
  }
 ],
 "metadata": {
  "kernelspec": {
   "display_name": "env",
   "language": "python",
   "name": "python3"
  },
  "language_info": {
   "codemirror_mode": {
    "name": "ipython",
    "version": 3
   },
   "file_extension": ".py",
   "mimetype": "text/x-python",
   "name": "python",
   "nbconvert_exporter": "python",
   "pygments_lexer": "ipython3",
   "version": "3.10.6"
  }
 },
 "nbformat": 4,
 "nbformat_minor": 2
}
