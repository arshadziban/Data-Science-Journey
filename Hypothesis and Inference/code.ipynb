{
 "cells": [
  {
   "cell_type": "markdown",
   "metadata": {},
   "source": [
    "# Flipping a Coin"
   ]
  },
  {
   "cell_type": "code",
   "execution_count": 17,
   "metadata": {},
   "outputs": [
    {
     "name": "stdout",
     "output_type": "stream",
     "text": [
      "Mean: 50.0, Standard Deviation: 5.0\n"
     ]
    }
   ],
   "source": [
    "from typing import Tuple\n",
    "import math\n",
    "def normal_approximation_to_bianomial(n:int, p:float) ->Tuple:\n",
    "    mu = p*n\n",
    "    sigma = math.sqrt(p*(1-p)*n)\n",
    "    return mu, sigma\n",
    "mu, sigma = normal_approximation_to_bianomial(100, 0.5)\n",
    "print(f\"Mean: {mu}, Standard Deviation: {sigma}\")\n",
    "    "
   ]
  },
  {
   "cell_type": "code",
   "execution_count": 18,
   "metadata": {},
   "outputs": [],
   "source": [
    "def normal_cdf(x: float, mu: float = 0, sigma: float = 1) -> float:\n",
    "    \"\"\"Computes the CDF of a normal distribution.\"\"\"\n",
    "    return (1 + math.erf((x - mu) / (sigma * math.sqrt(2)))) / 2"
   ]
  },
  {
   "cell_type": "code",
   "execution_count": 19,
   "metadata": {},
   "outputs": [],
   "source": [
    "def normal_probability_above(lo: float, mu: float = 0, sigma: float = 1) -> float:\n",
    "    \"\"\"Returns the probability that a normal variable is above a given value.\"\"\"\n",
    "    return 1 - normal_cdf(lo, mu, sigma)"
   ]
  },
  {
   "cell_type": "code",
   "execution_count": 20,
   "metadata": {},
   "outputs": [
    {
     "name": "stdout",
     "output_type": "stream",
     "text": [
      "Probability of being above 1: 0.15865525393145719\n"
     ]
    }
   ],
   "source": [
    "probability_above = normal_probability_above(1.0, mu=0, sigma=1)\n",
    "print(f\"Probability of being above 1: {probability_above}\")"
   ]
  },
  {
   "cell_type": "code",
   "execution_count": null,
   "metadata": {},
   "outputs": [
    {
     "ename": "SyntaxError",
     "evalue": "invalid syntax (4087790188.py, line 1)",
     "output_type": "error",
     "traceback": [
      "\u001b[1;36m  Cell \u001b[1;32mIn[21], line 1\u001b[1;36m\u001b[0m\n\u001b[1;33m    def normal_approximation_abo\u001b[0m\n\u001b[1;37m                                ^\u001b[0m\n\u001b[1;31mSyntaxError\u001b[0m\u001b[1;31m:\u001b[0m invalid syntax\n"
     ]
    }
   ],
   "source": []
  }
 ],
 "metadata": {
  "kernelspec": {
   "display_name": "env",
   "language": "python",
   "name": "python3"
  },
  "language_info": {
   "codemirror_mode": {
    "name": "ipython",
    "version": 3
   },
   "file_extension": ".py",
   "mimetype": "text/x-python",
   "name": "python",
   "nbconvert_exporter": "python",
   "pygments_lexer": "ipython3",
   "version": "3.10.6"
  }
 },
 "nbformat": 4,
 "nbformat_minor": 2
}
