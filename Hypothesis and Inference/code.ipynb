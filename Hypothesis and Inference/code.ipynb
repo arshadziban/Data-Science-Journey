{
 "cells": [
  {
   "cell_type": "markdown",
   "metadata": {},
   "source": [
    "# Flipping a Coin"
   ]
  },
  {
   "cell_type": "code",
   "execution_count": 17,
   "metadata": {},
   "outputs": [
    {
     "name": "stdout",
     "output_type": "stream",
     "text": [
      "Mean: 50.0, Standard Deviation: 5.0\n"
     ]
    }
   ],
   "source": [
    "from typing import Tuple\n",
    "import math\n",
    "def normal_approximation_to_bianomial(n:int, p:float) ->Tuple:\n",
    "    mu = p*n\n",
    "    sigma = math.sqrt(p*(1-p)*n)\n",
    "    return mu, sigma\n",
    "mu, sigma = normal_approximation_to_bianomial(100, 0.5)\n",
    "print(f\"Mean: {mu}, Standard Deviation: {sigma}\")\n",
    "    "
   ]
  },
  {
   "cell_type": "code",
   "execution_count": 18,
   "metadata": {},
   "outputs": [],
   "source": [
    "def normal_cdf(x: float, mu: float = 0, sigma: float = 1) -> float:\n",
    "    \"\"\"Computes the CDF of a normal distribution.\"\"\"\n",
    "    return (1 + math.erf((x - mu) / (sigma * math.sqrt(2)))) / 2"
   ]
  },
  {
   "cell_type": "code",
   "execution_count": 19,
   "metadata": {},
   "outputs": [],
   "source": [
    "def normal_probability_above(lo: float, mu: float = 0, sigma: float = 1) -> float:\n",
    "    \"\"\"Returns the probability that a normal variable is above a given value.\"\"\"\n",
    "    return 1 - normal_cdf(lo, mu, sigma)"
   ]
  },
  {
   "cell_type": "code",
   "execution_count": 20,
   "metadata": {},
   "outputs": [
    {
     "name": "stdout",
     "output_type": "stream",
     "text": [
      "Probability of being above 1: 0.15865525393145719\n"
     ]
    }
   ],
   "source": [
    "probability_above = normal_probability_above(1.0, mu=0, sigma=1)\n",
    "print(f\"Probability of being above 1: {probability_above}\")"
   ]
  },
  {
   "cell_type": "code",
   "execution_count": 24,
   "metadata": {},
   "outputs": [
    {
     "name": "stdout",
     "output_type": "stream",
     "text": [
      "0.13590512198327787\n"
     ]
    }
   ],
   "source": [
    "import math\n",
    "from scipy.stats import norm\n",
    "\n",
    "def normal_probability_between(lo: float, hi: float, mu: float = 0, sigma: float = 1) -> float:\n",
    "    return norm.cdf(hi, mu, sigma) - norm.cdf(lo, mu, sigma)\n",
    "\n",
    "# Example usage:\n",
    "lo = 1.0\n",
    "hi = 2.0\n",
    "mu = 0.0\n",
    "sigma = 1.0\n",
    "value = normal_probability_between(lo, hi, mu, sigma)\n",
    "print(value)"
   ]
  },
  {
   "cell_type": "code",
   "execution_count": 25,
   "metadata": {},
   "outputs": [
    {
     "name": "stdout",
     "output_type": "stream",
     "text": [
      "0.8640948780167221\n"
     ]
    }
   ],
   "source": [
    "def normal_probability_outside(lo: float, hi: float, mu: float = 0, sigma: float = 1) ->float:\n",
    "    return 1 - normal_probability_between(lo, hi, mu, sigma)\n",
    "\n",
    "lo = 1.0\n",
    "hi = 2.0\n",
    "mu = 0.0\n",
    "sigma = 1.0\n",
    "value = normal_probability_outside(lo, hi, mu, sigma)\n",
    "print(value)"
   ]
  },
  {
   "cell_type": "code",
   "execution_count": null,
   "metadata": {},
   "outputs": [],
   "source": []
  }
 ],
 "metadata": {
  "kernelspec": {
   "display_name": "env",
   "language": "python",
   "name": "python3"
  },
  "language_info": {
   "codemirror_mode": {
    "name": "ipython",
    "version": 3
   },
   "file_extension": ".py",
   "mimetype": "text/x-python",
   "name": "python",
   "nbconvert_exporter": "python",
   "pygments_lexer": "ipython3",
   "version": "3.10.6"
  }
 },
 "nbformat": 4,
 "nbformat_minor": 2
}
