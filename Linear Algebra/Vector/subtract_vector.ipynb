{
 "cells": [
  {
   "cell_type": "code",
   "execution_count": 2,
   "metadata": {},
   "outputs": [
    {
     "name": "stdout",
     "output_type": "stream",
     "text": [
      "Function works correctly!\n"
     ]
    }
   ],
   "source": [
    "from typing import List\n",
    "\n",
    "def add(v: List[float], w: List[float]) -> List[float]:\n",
    "    assert len(v) == len(w), \"Vectors must be of the same length\"\n",
    "    return [v_i - w_i for v_i, w_i in zip(v, w)]\n",
    "\n",
    "# Test the function\n",
    "assert add([5, 7, 9], [4, 5, 6]) == [1, 2, 3]\n",
    "\n",
    "print(\"Function works correctly!\")"
   ]
  }
 ],
 "metadata": {
  "kernelspec": {
   "display_name": "Python 3",
   "language": "python",
   "name": "python3"
  },
  "language_info": {
   "codemirror_mode": {
    "name": "ipython",
    "version": 3
   },
   "file_extension": ".py",
   "mimetype": "text/x-python",
   "name": "python",
   "nbconvert_exporter": "python",
   "pygments_lexer": "ipython3",
   "version": "3.10.6"
  }
 },
 "nbformat": 4,
 "nbformat_minor": 2
}
