{
 "cells": [
  {
   "cell_type": "code",
   "execution_count": 3,
   "metadata": {},
   "outputs": [
    {
     "name": "stdout",
     "output_type": "stream",
     "text": [
      "[3.0, 4.0]\n"
     ]
    }
   ],
   "source": [
    "from typing import List\n",
    "\n",
    "vector = List[float] \n",
    "\n",
    "def vector_mean(vectors: List[vector]) -> vector:\n",
    "    assert vectors, \"No vectors provided\"  \n",
    "\n",
    "    num_elements = len(vectors[0])  # Get the length of the first vector\n",
    "    assert all(len(v) == num_elements for v in vectors), \"Vectors must be of the same size\"\n",
    "\n",
    "    return [sum(v[i] for v in vectors) / len(vectors) for i in range(num_elements)]\n",
    "\n",
    "print(vector_mean([[1, 2], [3, 4], [5, 6]])) \n"
   ]
  },
  {
   "cell_type": "code",
   "execution_count": null,
   "metadata": {},
   "outputs": [],
   "source": []
  }
 ],
 "metadata": {
  "kernelspec": {
   "display_name": "Python 3",
   "language": "python",
   "name": "python3"
  },
  "language_info": {
   "codemirror_mode": {
    "name": "ipython",
    "version": 3
   },
   "file_extension": ".py",
   "mimetype": "text/x-python",
   "name": "python",
   "nbconvert_exporter": "python",
   "pygments_lexer": "ipython3",
   "version": "3.10.6"
  }
 },
 "nbformat": 4,
 "nbformat_minor": 2
}
