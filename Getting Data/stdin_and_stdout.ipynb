{
 "cells": [
  {
   "cell_type": "markdown",
   "metadata": {},
   "source": [
    "# Read Text"
   ]
  },
  {
   "cell_type": "code",
   "execution_count": 73,
   "metadata": {},
   "outputs": [],
   "source": [
    "import re"
   ]
  },
  {
   "cell_type": "code",
   "execution_count": 74,
   "metadata": {},
   "outputs": [],
   "source": [
    "def egrep(regex, text):\n",
    "    \"\"\"\n",
    "    Filters lines of text that match the given regex pattern.\n",
    "    \n",
    "    :param regex: Regular expression pattern to search for.\n",
    "    :param text: Input text (can be a multi-line string).\n",
    "    :return: A list of matching lines.\n",
    "    \"\"\"\n",
    "    matching_lines = []\n",
    "    for line in text.splitlines():  # Split text into lines\n",
    "        if re.search(regex, line):  # Check if the line matches the pattern\n",
    "            matching_lines.append(line)  # Add matching lines to the list\n",
    "    return matching_lines\n"
   ]
  },
  {
   "cell_type": "code",
   "execution_count": 75,
   "metadata": {},
   "outputs": [],
   "source": [
    "with open(\"test.txt\", \"r\") as file:\n",
    "    text = file.read()"
   ]
  },
  {
   "cell_type": "code",
   "execution_count": 76,
   "metadata": {},
   "outputs": [
    {
     "name": "stdout",
     "output_type": "stream",
     "text": [
      "This is line 1.\n",
      "This line has a number: 123.\n",
      "Another number: 456.\n"
     ]
    }
   ],
   "source": [
    "# Example: Find lines with numbers\n",
    "regex = r\"[0-9]\"  # Regular expression to match any digit\n",
    "matches = egrep(regex, text)\n",
    "\n",
    "# Print the matching lines\n",
    "for line in matches:\n",
    "    print(line)"
   ]
  },
  {
   "cell_type": "markdown",
   "metadata": {},
   "source": [
    "# Counting Lines"
   ]
  },
  {
   "cell_type": "code",
   "execution_count": 77,
   "metadata": {},
   "outputs": [],
   "source": [
    "# Convert the input text into a list of lines (simulating sys.stdin)\n",
    "import sys\n",
    "from io import StringIO"
   ]
  },
  {
   "cell_type": "code",
   "execution_count": 78,
   "metadata": {},
   "outputs": [],
   "source": [
    "# Redirect sys.stdin to simulate input\n",
    "sys.stdin = StringIO(text)"
   ]
  },
  {
   "cell_type": "code",
   "execution_count": 79,
   "metadata": {},
   "outputs": [],
   "source": [
    "# Now the script can run as-is\n",
    "count = 0\n",
    "for line in sys.stdin:\n",
    "    count += 1"
   ]
  },
  {
   "cell_type": "code",
   "execution_count": 80,
   "metadata": {},
   "outputs": [
    {
     "data": {
      "text/plain": [
       "4"
      ]
     },
     "execution_count": 80,
     "metadata": {},
     "output_type": "execute_result"
    }
   ],
   "source": [
    "count"
   ]
  },
  {
   "cell_type": "markdown",
   "metadata": {},
   "source": [
    "# Most common words from input text"
   ]
  },
  {
   "cell_type": "code",
   "execution_count": 81,
   "metadata": {},
   "outputs": [],
   "source": [
    "from collections import Counter"
   ]
  },
  {
   "cell_type": "code",
   "execution_count": 88,
   "metadata": {},
   "outputs": [],
   "source": [
    "def most_common_words(text, num_words):\n",
    "    \"\"\"\n",
    "    Counts the most common words in the given text and returns the top N words.\n",
    "    \n",
    "    :param text: Input text (can be a multi-line string).\n",
    "    :param num_words: Number of top words to return.\n",
    "    :return: A list of tuples (word, count) for the most common words.\n",
    "    \"\"\"\n",
    "    counter = Counter(\n",
    "        word.lower()  # Convert words to lowercase\n",
    "        for line in text.splitlines()  # Split text into lines\n",
    "        for word in line.strip().split()  # Split words\n",
    "        if word  # Ignore empty words\n",
    "    )\n",
    "    return counter.most_common(num_words)\n"
   ]
  },
  {
   "cell_type": "code",
   "execution_count": 89,
   "metadata": {},
   "outputs": [],
   "source": [
    "# Read text from a file\n",
    "file_path = \"test.txt\"  # Replace with your file path\n",
    "with open(file_path, \"r\") as file:\n",
    "    text = file.read()  # Read the entire file content into a string"
   ]
  },
  {
   "cell_type": "code",
   "execution_count": 90,
   "metadata": {},
   "outputs": [
    {
     "data": {
      "text/plain": [
       "'This is line 1.\\nThis line has a number: 123.\\nNo numbers here.\\nAnother number: 456.'"
      ]
     },
     "execution_count": 90,
     "metadata": {},
     "output_type": "execute_result"
    }
   ],
   "source": [
    "text"
   ]
  },
  {
   "cell_type": "code",
   "execution_count": 92,
   "metadata": {},
   "outputs": [
    {
     "name": "stdout",
     "output_type": "stream",
     "text": [
      "2\tthis\n",
      "2\tline\n",
      "2\tnumber:\n"
     ]
    }
   ],
   "source": [
    "num_words = 3  # Number of top words to show\n",
    "top_words = most_common_words(text, num_words)\n",
    "\n",
    "# Print the results\n",
    "for word, count in top_words:\n",
    "    print(f\"{count}\\t{word}\")"
   ]
  }
 ],
 "metadata": {
  "kernelspec": {
   "display_name": "env",
   "language": "python",
   "name": "python3"
  },
  "language_info": {
   "codemirror_mode": {
    "name": "ipython",
    "version": 3
   },
   "file_extension": ".py",
   "mimetype": "text/x-python",
   "name": "python",
   "nbconvert_exporter": "python",
   "pygments_lexer": "ipython3",
   "version": "3.10.6"
  }
 },
 "nbformat": 4,
 "nbformat_minor": 2
}
