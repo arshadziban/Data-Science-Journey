{
 "cells": [
  {
   "cell_type": "markdown",
   "metadata": {},
   "source": [
    "# Read Text"
   ]
  },
  {
   "cell_type": "code",
   "execution_count": 9,
   "metadata": {},
   "outputs": [],
   "source": [
    "import re"
   ]
  },
  {
   "cell_type": "code",
   "execution_count": 10,
   "metadata": {},
   "outputs": [],
   "source": [
    "def egrep(regex, text):\n",
    "    \"\"\"\n",
    "    Filters lines of text that match the given regex pattern.\n",
    "    \n",
    "    :param regex: Regular expression pattern to search for.\n",
    "    :param text: Input text (can be a multi-line string).\n",
    "    :return: A list of matching lines.\n",
    "    \"\"\"\n",
    "    matching_lines = []\n",
    "    for line in text.splitlines():  # Split text into lines\n",
    "        if re.search(regex, line):  # Check if the line matches the pattern\n",
    "            matching_lines.append(line)  # Add matching lines to the list\n",
    "    return matching_lines\n"
   ]
  },
  {
   "cell_type": "code",
   "execution_count": 11,
   "metadata": {},
   "outputs": [],
   "source": [
    "# Example: Read text from a file\n",
    "with open(\"test.txt\", \"r\") as file:\n",
    "    text = file.read()"
   ]
  },
  {
   "cell_type": "code",
   "execution_count": 12,
   "metadata": {},
   "outputs": [
    {
     "name": "stdout",
     "output_type": "stream",
     "text": [
      "This is line 1.\n",
      "This line has a number: 123.\n",
      "Another number: 456.\n"
     ]
    }
   ],
   "source": [
    "# Example: Find lines with numbers\n",
    "regex = r\"[0-9]\"  # Regular expression to match any digit\n",
    "matches = egrep(regex, text)\n",
    "\n",
    "# Print the matching lines\n",
    "for line in matches:\n",
    "    print(line)"
   ]
  },
  {
   "cell_type": "code",
   "execution_count": null,
   "metadata": {},
   "outputs": [],
   "source": []
  }
 ],
 "metadata": {
  "kernelspec": {
   "display_name": "env",
   "language": "python",
   "name": "python3"
  },
  "language_info": {
   "codemirror_mode": {
    "name": "ipython",
    "version": 3
   },
   "file_extension": ".py",
   "mimetype": "text/x-python",
   "name": "python",
   "nbconvert_exporter": "python",
   "pygments_lexer": "ipython3",
   "version": "3.10.6"
  }
 },
 "nbformat": 4,
 "nbformat_minor": 2
}
