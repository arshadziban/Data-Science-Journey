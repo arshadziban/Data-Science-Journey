{
 "cells": [
  {
   "cell_type": "markdown",
   "metadata": {},
   "source": [
    "# Reading and Writing Files"
   ]
  },
  {
   "cell_type": "code",
   "execution_count": 50,
   "metadata": {},
   "outputs": [],
   "source": [
    "# Open a file in read mode ('r' - read-only)\n",
    "file_for_reading = open('reading_file.txt', 'r')"
   ]
  },
  {
   "cell_type": "code",
   "execution_count": 51,
   "metadata": {},
   "outputs": [
    {
     "name": "stdout",
     "output_type": "stream",
     "text": [
      "The amber glow of the evening sun painted the horizon in hues of gold and crimson. A gentle breeze whispered through the trees, carrying with it the scent of blooming jasmine. In the distance, laughter echoed through the quiet streets, a reminder that even in fleeting moments, joy finds a way to linger.\n",
      "\n",
      "# This is a comment\n"
     ]
    }
   ],
   "source": [
    "with open('reading_file.txt', 'r') as file:\n",
    "    print(file.read())"
   ]
  },
  {
   "cell_type": "code",
   "execution_count": 52,
   "metadata": {},
   "outputs": [],
   "source": [
    "# Open a file in write mode ('w' - write-only, overwrites existing content)\n",
    "file_for_writing = open('writing_file.txt', 'w')"
   ]
  },
  {
   "cell_type": "code",
   "execution_count": 53,
   "metadata": {},
   "outputs": [
    {
     "data": {
      "text/plain": [
       "67"
      ]
     },
     "execution_count": 53,
     "metadata": {},
     "output_type": "execute_result"
    }
   ],
   "source": [
    "# Write some content to the file\n",
    "file_for_writing.write(\"Hello, this is a test message!\\nThis file contains some sample text.\")"
   ]
  },
  {
   "cell_type": "code",
   "execution_count": 54,
   "metadata": {},
   "outputs": [],
   "source": [
    "# Close the file after writing\n",
    "file_for_writing.close()"
   ]
  },
  {
   "cell_type": "code",
   "execution_count": 55,
   "metadata": {},
   "outputs": [
    {
     "name": "stdout",
     "output_type": "stream",
     "text": [
      "Hello, this is a test message!\n",
      "This file contains some sample text.\n"
     ]
    }
   ],
   "source": [
    "with open('writing_file.txt', 'r') as file:\n",
    "    print(file.read())"
   ]
  },
  {
   "cell_type": "code",
   "execution_count": 56,
   "metadata": {},
   "outputs": [],
   "source": [
    "# Open a file in append mode ('a' - adds content to the end of the file)\n",
    "file_for_appending = open('appending_file.txt', 'a')\n",
    "\n",
    "# Example: Append a new line to the file\n",
    "file_for_appending.write(\"This is a new line appended to the file.\\n\")\n",
    "\n",
    "# Close the file when done\n",
    "file_for_appending.close()"
   ]
  },
  {
   "cell_type": "code",
   "execution_count": 57,
   "metadata": {},
   "outputs": [],
   "source": [
    "# Using 'with' statement for better file handling\n",
    "with open('appending_file.txt', 'a') as file_for_appending:\n",
    "    file_for_appending.write(\"This is another line appended using 'with'.\\n\")"
   ]
  },
  {
   "cell_type": "code",
   "execution_count": 58,
   "metadata": {},
   "outputs": [
    {
     "name": "stdout",
     "output_type": "stream",
     "text": [
      "This is a new line appended to the file.\n",
      "This is another line appended using 'with'.\n",
      "This is a new line appended to the file.\n",
      "This is another line appended using 'with'.\n",
      "This is a new line appended to the file.\n",
      "This is another line appended using 'with'.\n",
      "\n"
     ]
    }
   ],
   "source": [
    "# Open the file in read mode\n",
    "with open('appending_file.txt', 'r') as file:\n",
    "    print(file.read())"
   ]
  },
  {
   "cell_type": "markdown",
   "metadata": {},
   "source": [
    "# Reading a File Line by Line"
   ]
  },
  {
   "cell_type": "code",
   "execution_count": 59,
   "metadata": {},
   "outputs": [
    {
     "name": "stdout",
     "output_type": "stream",
     "text": [
      "Number of lines starting with '#': 1\n"
     ]
    }
   ],
   "source": [
    "import re\n",
    "\n",
    "starts_with_hash = 0  # Counter for lines starting with '#'\n",
    "\n",
    "with open('reading_file.txt', 'r') as f:\n",
    "    for line in f:  # Iterate over each line in the file\n",
    "        if re.match(r\"^#\", line):  # Check if the line starts with '#'\n",
    "            starts_with_hash += 1  # Increment the counter\n",
    "\n",
    "print(f\"Number of lines starting with '#': {starts_with_hash}\")"
   ]
  },
  {
   "cell_type": "markdown",
   "metadata": {},
   "source": [
    "# Extracting Domains from Email Addresses"
   ]
  },
  {
   "cell_type": "code",
   "execution_count": 60,
   "metadata": {},
   "outputs": [],
   "source": [
    "with open(\"email_addresses.txt\", \"w\") as f:\n",
    "    f.write(\"alice@example.com\\n\")\n",
    "    f.write(\"bob@gmail.com\\n\")\n",
    "    f.write(\"charlie@yahoo.com\\n\")\n",
    "    f.write(\"dave@example.com\\n\")"
   ]
  },
  {
   "cell_type": "code",
   "execution_count": 61,
   "metadata": {},
   "outputs": [
    {
     "name": "stdout",
     "output_type": "stream",
     "text": [
      "alice@example.com\n",
      "bob@gmail.com\n",
      "charlie@yahoo.com\n",
      "dave@example.com\n",
      "\n"
     ]
    }
   ],
   "source": [
    "with open('email_addresses.txt', 'r') as file:\n",
    "    print(file.read())"
   ]
  },
  {
   "cell_type": "code",
   "execution_count": 63,
   "metadata": {},
   "outputs": [],
   "source": [
    "from collections import Counter\n",
    "\n",
    "def get_domain(email_address):\n",
    "    \"\"\"Split the email on '@' and return the domain\"\"\"\n",
    "    return email_address.lower().split(\"@\")[-1]\n",
    "\n",
    "with open(\"email_addresses.txt\", \"r\") as f:\n",
    "    domain_counts = Counter(get_domain(line.strip()) for line in f if \"@\" in line)\n"
   ]
  },
  {
   "cell_type": "code",
   "execution_count": 64,
   "metadata": {},
   "outputs": [
    {
     "data": {
      "text/plain": [
       "Counter({'example.com': 2, 'gmail.com': 1, 'yahoo.com': 1})"
      ]
     },
     "execution_count": 64,
     "metadata": {},
     "output_type": "execute_result"
    }
   ],
   "source": [
    "domain_counts"
   ]
  }
 ],
 "metadata": {
  "kernelspec": {
   "display_name": "env",
   "language": "python",
   "name": "python3"
  },
  "language_info": {
   "codemirror_mode": {
    "name": "ipython",
    "version": 3
   },
   "file_extension": ".py",
   "mimetype": "text/x-python",
   "name": "python",
   "nbconvert_exporter": "python",
   "pygments_lexer": "ipython3",
   "version": "3.10.6"
  }
 },
 "nbformat": 4,
 "nbformat_minor": 2
}
