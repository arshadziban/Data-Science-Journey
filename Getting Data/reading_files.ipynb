{
 "cells": [
  {
   "cell_type": "markdown",
   "metadata": {},
   "source": [
    "# Reading and Writing Files"
   ]
  },
  {
   "cell_type": "code",
   "execution_count": 23,
   "metadata": {},
   "outputs": [],
   "source": [
    "# Open a file in read mode ('r' - read-only)\n",
    "file_for_reading = open('reading_file.txt', 'r')"
   ]
  },
  {
   "cell_type": "code",
   "execution_count": 24,
   "metadata": {},
   "outputs": [
    {
     "name": "stdout",
     "output_type": "stream",
     "text": [
      "The amber glow of the evening sun painted the horizon in hues of gold and crimson. A gentle breeze whispered through the trees, carrying with it the scent of blooming jasmine. In the distance, laughter echoed through the quiet streets, a reminder that even in fleeting moments, joy finds a way to linger.\n"
     ]
    }
   ],
   "source": [
    "with open('reading_file.txt', 'r') as file:\n",
    "    print(file.read())"
   ]
  },
  {
   "cell_type": "code",
   "execution_count": 25,
   "metadata": {},
   "outputs": [],
   "source": [
    "# Open a file in write mode ('w' - write-only, overwrites existing content)\n",
    "file_for_writing = open('writing_file.txt', 'w')"
   ]
  },
  {
   "cell_type": "code",
   "execution_count": 26,
   "metadata": {},
   "outputs": [
    {
     "data": {
      "text/plain": [
       "67"
      ]
     },
     "execution_count": 26,
     "metadata": {},
     "output_type": "execute_result"
    }
   ],
   "source": [
    "# Write some content to the file\n",
    "file_for_writing.write(\"Hello, this is a test message!\\nThis file contains some sample text.\")"
   ]
  },
  {
   "cell_type": "code",
   "execution_count": 27,
   "metadata": {},
   "outputs": [],
   "source": [
    "# Close the file after writing\n",
    "file_for_writing.close()"
   ]
  },
  {
   "cell_type": "code",
   "execution_count": 28,
   "metadata": {},
   "outputs": [
    {
     "name": "stdout",
     "output_type": "stream",
     "text": [
      "Hello, this is a test message!\n",
      "This file contains some sample text.\n"
     ]
    }
   ],
   "source": [
    "with open('writing_file.txt', 'r') as file:\n",
    "    print(file.read())"
   ]
  },
  {
   "cell_type": "code",
   "execution_count": 29,
   "metadata": {},
   "outputs": [],
   "source": [
    "# Open a file in append mode ('a' - adds content to the end of the file)\n",
    "file_for_appending = open('appending_file.txt', 'a')\n",
    "\n",
    "# Example: Append a new line to the file\n",
    "file_for_appending.write(\"This is a new line appended to the file.\\n\")\n",
    "\n",
    "# Close the file when done\n",
    "file_for_appending.close()"
   ]
  },
  {
   "cell_type": "code",
   "execution_count": 30,
   "metadata": {},
   "outputs": [],
   "source": [
    "# Using 'with' statement for better file handling\n",
    "with open('appending_file.txt', 'a') as file_for_appending:\n",
    "    file_for_appending.write(\"This is another line appended using 'with'.\\n\")"
   ]
  },
  {
   "cell_type": "code",
   "execution_count": 32,
   "metadata": {},
   "outputs": [
    {
     "name": "stdout",
     "output_type": "stream",
     "text": [
      "This is a new line appended to the file.\n",
      "This is another line appended using 'with'.\n",
      "\n"
     ]
    }
   ],
   "source": [
    "# Open the file in read mode\n",
    "with open('appending_file.txt', 'r') as file:\n",
    "    print(file.read())"
   ]
  },
  {
   "cell_type": "code",
   "execution_count": null,
   "metadata": {},
   "outputs": [],
   "source": []
  }
 ],
 "metadata": {
  "kernelspec": {
   "display_name": "env",
   "language": "python",
   "name": "python3"
  },
  "language_info": {
   "codemirror_mode": {
    "name": "ipython",
    "version": 3
   },
   "file_extension": ".py",
   "mimetype": "text/x-python",
   "name": "python",
   "nbconvert_exporter": "python",
   "pygments_lexer": "ipython3",
   "version": "3.10.6"
  }
 },
 "nbformat": 4,
 "nbformat_minor": 2
}
