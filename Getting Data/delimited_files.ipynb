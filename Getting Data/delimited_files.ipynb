{
 "cells": [
  {
   "cell_type": "code",
   "execution_count": 1,
   "metadata": {},
   "outputs": [
    {
     "name": "stdout",
     "output_type": "stream",
     "text": [
      "['6/20/2014', 'AAPL', '90.91']\n",
      "['6/20/2014', 'MSFT', '41.68']\n",
      "['6/20/2014', 'FB', '64.5']\n"
     ]
    }
   ],
   "source": [
    "import csv\n",
    "\n",
    "with open('stocks.txt', 'r') as f:\n",
    "    reader = csv.reader(f, delimiter='\\t')  # \\t means tab\n",
    "    for row in reader:\n",
    "        print(row)  # ['6/20/2014', 'AAPL', '90.91']\n"
   ]
  },
  {
   "cell_type": "code",
   "execution_count": 4,
   "metadata": {},
   "outputs": [
    {
     "name": "stdout",
     "output_type": "stream",
     "text": [
      "AAPL 90.91\n",
      "MSFT 41.68\n",
      "FB 64.5\n"
     ]
    }
   ],
   "source": [
    "import csv\n",
    "\n",
    "stocks = {\"AAPL\": 90.91, \"MSFT\": 41.68, \"FB\": 64.5}\n",
    "\n",
    "with open('stocks.csv', 'w', newline='') as f:\n",
    "    writer = csv.writer(f)\n",
    "    for name, price in stocks.items():\n",
    "        writer.writerow([name, price])\n",
    "        print(name, price)  "
   ]
  }
 ],
 "metadata": {
  "kernelspec": {
   "display_name": "env",
   "language": "python",
   "name": "python3"
  },
  "language_info": {
   "codemirror_mode": {
    "name": "ipython",
    "version": 3
   },
   "file_extension": ".py",
   "mimetype": "text/x-python",
   "name": "python",
   "nbconvert_exporter": "python",
   "pygments_lexer": "ipython3",
   "version": "3.10.6"
  }
 },
 "nbformat": 4,
 "nbformat_minor": 2
}
